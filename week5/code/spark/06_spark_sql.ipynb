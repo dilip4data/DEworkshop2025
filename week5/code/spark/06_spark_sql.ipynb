{
 "cells": [
  {
   "cell_type": "code",
   "execution_count": 1,
   "id": "ebbb00d3-a39f-48ed-957e-f2d6abc492f0",
   "metadata": {},
   "outputs": [],
   "source": [
    "import pyspark\n",
    "from pyspark.sql import SparkSession"
   ]
  },
  {
   "cell_type": "code",
   "execution_count": 2,
   "id": "d72c09a2-0e8a-4a2e-a676-eb42c2b8e362",
   "metadata": {},
   "outputs": [
    {
     "name": "stderr",
     "output_type": "stream",
     "text": [
      "Setting default log level to \"WARN\".\n",
      "To adjust logging level use sc.setLogLevel(newLevel). For SparkR, use setLogLevel(newLevel).\n",
      "25/03/09 20:06:43 WARN NativeCodeLoader: Unable to load native-hadoop library for your platform... using builtin-java classes where applicable\n"
     ]
    }
   ],
   "source": [
    "spark = SparkSession.builder \\\n",
    "    .master(\"local[*]\") \\\n",
    "    .appName(\"test\") \\\n",
    "    .getOrCreate()"
   ]
  },
  {
   "cell_type": "code",
   "execution_count": 3,
   "id": "170e2038-e19d-4013-ba3e-d4e79d446400",
   "metadata": {},
   "outputs": [],
   "source": [
    "df_green = spark.read.parquet('data/pq/green/*/*')"
   ]
  },
  {
   "cell_type": "code",
   "execution_count": 4,
   "id": "05e3675c-dc9d-4864-920d-a36cf303e6a9",
   "metadata": {},
   "outputs": [],
   "source": [
    "df_yellow = spark.read.parquet('data/pq/yellow/*/*')"
   ]
  },
  {
   "cell_type": "code",
   "execution_count": 5,
   "id": "f3670617-c69c-430c-8a6d-b4a8a79bf5fc",
   "metadata": {},
   "outputs": [],
   "source": [
    "df_green = df_green \\\n",
    "            .withColumnRenamed('lpep_pickup_datetime','pickup_datetime') \\\n",
    "            .withColumnRenamed('lpep_dropoff_datetime','dropoff_datetime')\n"
   ]
  },
  {
   "cell_type": "code",
   "execution_count": 6,
   "id": "32d7a34f-9c0a-46bb-9799-2e10813eeb00",
   "metadata": {},
   "outputs": [],
   "source": [
    "df_yellow = df_yellow \\\n",
    "            .withColumnRenamed('tpep_pickup_datetime','pickup_datetime') \\\n",
    "            .withColumnRenamed('tpep_dropoff_datetime','dropoff_datetime')"
   ]
  },
  {
   "cell_type": "markdown",
   "id": "c322f53d-17e5-461c-b0f3-ff0e56198831",
   "metadata": {},
   "source": [
    "### 2: Finding common columns"
   ]
  },
  {
   "cell_type": "code",
   "execution_count": 7,
   "id": "8b44ea0c-ce94-4624-a1b6-35e9d7ee6e8b",
   "metadata": {},
   "outputs": [
    {
     "data": {
      "text/plain": [
       "{'DOLocationID',\n",
       " 'PULocationID',\n",
       " 'RatecodeID',\n",
       " 'VendorID',\n",
       " 'congestion_surcharge',\n",
       " 'dropoff_datetime',\n",
       " 'extra',\n",
       " 'fare_amount',\n",
       " 'improvement_surcharge',\n",
       " 'mta_tax',\n",
       " 'passenger_count',\n",
       " 'payment_type',\n",
       " 'pickup_datetime',\n",
       " 'store_and_fwd_flag',\n",
       " 'tip_amount',\n",
       " 'tolls_amount',\n",
       " 'total_amount',\n",
       " 'trip_distance'}"
      ]
     },
     "execution_count": 7,
     "metadata": {},
     "output_type": "execute_result"
    }
   ],
   "source": [
    "set(df_green.columns) & set(df_yellow.columns)"
   ]
  },
  {
   "cell_type": "code",
   "execution_count": 8,
   "id": "570ea992-dae9-406f-a247-5287f4c4a604",
   "metadata": {},
   "outputs": [],
   "source": [
    "common_colums = []\n",
    "\n",
    "yellow_columns = set(df_yellow.columns)\n",
    "\n",
    "for col in df_green.columns:\n",
    "    if col in yellow_columns:\n",
    "        common_colums.append(col)"
   ]
  },
  {
   "cell_type": "code",
   "execution_count": 9,
   "id": "94474927-77c0-44e7-a08c-c58e7f281efa",
   "metadata": {},
   "outputs": [
    {
     "name": "stdout",
     "output_type": "stream",
     "text": [
      "['VendorID', 'pickup_datetime', 'dropoff_datetime', 'store_and_fwd_flag', 'RatecodeID', 'PULocationID', 'DOLocationID', 'passenger_count', 'trip_distance', 'fare_amount', 'extra', 'mta_tax', 'tip_amount', 'tolls_amount', 'improvement_surcharge', 'total_amount', 'payment_type', 'congestion_surcharge']\n"
     ]
    }
   ],
   "source": [
    "print(common_colums)"
   ]
  },
  {
   "cell_type": "code",
   "execution_count": 10,
   "id": "477e883c-579d-42d1-946f-459b77ee9d91",
   "metadata": {},
   "outputs": [
    {
     "name": "stdout",
     "output_type": "stream",
     "text": [
      "+--------+-------------------+-------------------+------------------+----------+------------+------------+---------------+-------------+-----------+-----+-------+----------+------------+---------------------+------------+------------+--------------------+\n",
      "|VendorID|    pickup_datetime|   dropoff_datetime|store_and_fwd_flag|RatecodeID|PULocationID|DOLocationID|passenger_count|trip_distance|fare_amount|extra|mta_tax|tip_amount|tolls_amount|improvement_surcharge|total_amount|payment_type|congestion_surcharge|\n",
      "+--------+-------------------+-------------------+------------------+----------+------------+------------+---------------+-------------+-----------+-----+-------+----------+------------+---------------------+------------+------------+--------------------+\n",
      "|       1|2020-01-21 08:09:42|2020-01-21 08:24:52|                 N|         1|           7|          82|              1|          2.9|       14.0|  0.0|    0.5|       0.0|         0.0|                  0.3|        14.8|           2|                 0.0|\n",
      "|       2|2020-01-28 19:42:20|2020-01-28 19:51:10|                 N|         1|          95|         196|              1|         1.35|        7.5|  1.0|    0.5|       0.0|         0.0|                  0.3|         9.3|           2|                 0.0|\n",
      "|       1|2020-01-21 18:37:21|2020-01-21 18:54:06|                 N|         1|         244|          75|              1|          6.2|       19.0|  1.0|    0.5|       0.0|         0.0|                  0.3|        20.8|           2|                 0.0|\n",
      "|       2|2020-01-08 12:58:33|2020-01-08 13:10:08|                 N|         1|          42|          75|              1|         1.64|        9.0|  0.0|    0.5|       0.0|         0.0|                  0.3|         9.8|           2|                 0.0|\n",
      "|       2|2020-01-06 19:46:03|2020-01-06 19:51:46|                 N|         1|         146|           7|              1|         1.07|        6.0|  1.0|    0.5|      1.56|         0.0|                  0.3|        9.36|           1|                 0.0|\n",
      "|       2|2020-01-25 08:51:04|2020-01-25 08:59:32|                 N|         1|         127|         220|              1|         1.89|        8.5|  0.0|    0.5|       0.0|         0.0|                  0.3|         9.3|           2|                 0.0|\n",
      "|       2|2020-01-08 21:34:13|2020-01-08 21:39:04|                 N|         1|          75|          75|              1|         0.62|        5.0|  0.5|    0.5|       0.0|         0.0|                  0.3|         6.3|           1|                 0.0|\n",
      "|       2|2020-01-18 01:05:27|2020-01-18 01:10:43|                 N|         1|         166|         166|              2|         0.75|        5.0|  0.5|    0.5|       0.0|         0.0|                  0.3|         6.3|           2|                 0.0|\n",
      "|       1|2020-01-22 21:40:43|2020-01-22 21:52:01|                 N|         1|         255|          37|              1|          2.0|        9.0|  0.5|    0.5|       0.0|         0.0|                  0.3|        10.3|           3|                 0.0|\n",
      "|       2|2020-01-24 17:04:02|2020-01-24 17:15:11|                 N|         1|          83|         129|              1|         1.09|        8.0|  1.0|    0.5|      1.96|         0.0|                  0.3|       11.76|           1|                 0.0|\n",
      "|       2|2020-01-08 15:04:27|2020-01-08 15:08:33|                 N|         1|          66|          33|              1|         0.69|        4.5|  0.0|    0.5|      1.06|         0.0|                  0.3|        6.36|           1|                 0.0|\n",
      "|    NULL|2020-01-02 08:07:00|2020-01-02 08:35:00|              NULL|      NULL|          32|          96|           NULL|        15.88|      47.75| 2.75|    0.0|       0.0|        6.12|                  0.3|       56.92|        NULL|                NULL|\n",
      "|       2|2020-01-18 17:07:01|2020-01-18 17:30:10|                 N|         1|         152|         243|              1|          2.8|       15.0|  0.0|    0.5|      3.16|         0.0|                  0.3|       18.96|           1|                 0.0|\n",
      "|       2|2020-01-11 20:59:11|2020-01-11 21:04:08|                 N|         1|          25|         181|              1|          1.0|        5.5|  0.5|    0.5|       0.0|         0.0|                  0.3|         6.8|           2|                 0.0|\n",
      "|       2|2020-01-12 01:59:05|2020-01-12 02:04:22|                 N|         1|         129|          82|              1|         0.77|        5.0|  0.5|    0.5|       0.0|         0.0|                  0.3|         6.3|           2|                 0.0|\n",
      "|    NULL|2020-01-17 12:20:00|2020-01-17 12:49:00|              NULL|      NULL|         140|         217|           NULL|         7.13|      32.77| 2.75|    0.0|       0.0|         0.0|                  0.3|       35.82|        NULL|                NULL|\n",
      "|    NULL|2020-01-03 14:27:00|2020-01-03 14:49:00|              NULL|      NULL|         140|         136|           NULL|         9.06|      27.13|  0.0|    0.0|       0.0|         0.0|                  0.3|       27.43|        NULL|                NULL|\n",
      "|       2|2020-01-21 19:37:26|2020-01-21 19:47:32|                 N|         1|         226|           7|              2|         1.06|        8.0|  1.0|    0.5|       0.0|         0.0|                  0.3|         9.8|           2|                 0.0|\n",
      "|    NULL|2020-01-27 09:41:00|2020-01-27 10:00:00|              NULL|      NULL|         210|          21|           NULL|         2.71|      17.65| 2.75|    0.5|       0.0|         0.0|                  0.3|        21.2|        NULL|                NULL|\n",
      "|    NULL|2020-01-16 05:56:00|2020-01-16 06:47:00|              NULL|      NULL|         117|          33|           NULL|        17.17|      49.25| 2.75|    0.0|       0.0|        2.29|                  0.3|       54.59|        NULL|                NULL|\n",
      "+--------+-------------------+-------------------+------------------+----------+------------+------------+---------------+-------------+-----------+-----+-------+----------+------------+---------------------+------------+------------+--------------------+\n",
      "only showing top 20 rows\n",
      "\n"
     ]
    }
   ],
   "source": [
    "df_green.select(common_colums).show()"
   ]
  },
  {
   "cell_type": "markdown",
   "id": "f3897d51-da5e-4421-8ad1-a138da1de010",
   "metadata": {},
   "source": [
    "###  Adding service types to identify dataset"
   ]
  },
  {
   "cell_type": "code",
   "execution_count": 11,
   "id": "974785c3-1d2a-4c9b-aa12-e79e7ab847bb",
   "metadata": {},
   "outputs": [],
   "source": [
    "from pyspark.sql import functions as F"
   ]
  },
  {
   "cell_type": "code",
   "execution_count": 12,
   "id": "73a248c6-50b4-4757-802b-3ac1d696c87e",
   "metadata": {},
   "outputs": [],
   "source": [
    "df_green_sel = df_green  \\\n",
    "        .select(common_colums)  \\\n",
    "        .withColumn('service_type',F.lit('green'))"
   ]
  },
  {
   "cell_type": "code",
   "execution_count": 13,
   "id": "e66fa4e4-896e-4e5c-92b0-e70e3f189e40",
   "metadata": {},
   "outputs": [],
   "source": [
    "df_yellow_sel = df_yellow  \\\n",
    "        .select(common_colums)  \\\n",
    "        .withColumn('service_type',F.lit('yellow'))"
   ]
  },
  {
   "cell_type": "markdown",
   "id": "c502eab9-8ebd-416e-9764-439974ce2e44",
   "metadata": {},
   "source": [
    "### 3: Combining yellow and green data"
   ]
  },
  {
   "cell_type": "code",
   "execution_count": 14,
   "id": "0485ae17-e78d-410e-a19b-6e88a3160da8",
   "metadata": {},
   "outputs": [],
   "source": [
    "df_trips_data = df_green_sel.unionAll(df_yellow_sel)"
   ]
  },
  {
   "cell_type": "code",
   "execution_count": 15,
   "id": "d2563d26-b852-4a80-9722-73c02cdb59dd",
   "metadata": {},
   "outputs": [
    {
     "name": "stderr",
     "output_type": "stream",
     "text": [
      "[Stage 3:======================================================>  (24 + 1) / 25]"
     ]
    },
    {
     "name": "stdout",
     "output_type": "stream",
     "text": [
      "+------------+--------+\n",
      "|service_type|   count|\n",
      "+------------+--------+\n",
      "|       green| 2304517|\n",
      "|      yellow|39649199|\n",
      "+------------+--------+\n",
      "\n"
     ]
    },
    {
     "name": "stderr",
     "output_type": "stream",
     "text": [
      "                                                                                "
     ]
    }
   ],
   "source": [
    "df_trips_data.groupBy('service_type').count().show()"
   ]
  },
  {
   "cell_type": "markdown",
   "id": "689435d6-ec7e-4505-a8e5-0c0b6884cde8",
   "metadata": {},
   "source": [
    "### 4: Querying with SQL"
   ]
  },
  {
   "cell_type": "markdown",
   "id": "e4e7ee21-330d-4614-b2f2-da4a97a83dbd",
   "metadata": {},
   "source": [
    "\n",
    "#### Now we can see how to use SQL for querying this data. First, we need to tell Spark that this DataFrame is a table. For that, we use:\n",
    "\n"
   ]
  },
  {
   "cell_type": "code",
   "execution_count": 19,
   "id": "f7d95971-89d1-4ea2-8d91-52eab5801b32",
   "metadata": {},
   "outputs": [
    {
     "name": "stderr",
     "output_type": "stream",
     "text": [
      "/opt/conda/lib/python3.10/site-packages/pyspark/sql/dataframe.py:329: FutureWarning: Deprecated in 2.0, use createOrReplaceTempView instead.\n",
      "  warnings.warn(\"Deprecated in 2.0, use createOrReplaceTempView instead.\", FutureWarning)\n"
     ]
    }
   ],
   "source": [
    "df_trips_data.registerTempTable('trips_data')"
   ]
  },
  {
   "cell_type": "code",
   "execution_count": 21,
   "id": "928de777-b5aa-4e0c-8381-ccbc1ff09fad",
   "metadata": {},
   "outputs": [
    {
     "name": "stdout",
     "output_type": "stream",
     "text": [
      "+--------+-------------------+-------------------+------------------+----------+------------+------------+---------------+-------------+-----------+-----+-------+----------+------------+---------------------+------------+------------+--------------------+------------+\n",
      "|VendorID|    pickup_datetime|   dropoff_datetime|store_and_fwd_flag|RatecodeID|PULocationID|DOLocationID|passenger_count|trip_distance|fare_amount|extra|mta_tax|tip_amount|tolls_amount|improvement_surcharge|total_amount|payment_type|congestion_surcharge|service_type|\n",
      "+--------+-------------------+-------------------+------------------+----------+------------+------------+---------------+-------------+-----------+-----+-------+----------+------------+---------------------+------------+------------+--------------------+------------+\n",
      "|       1|2020-01-21 08:09:42|2020-01-21 08:24:52|                 N|         1|           7|          82|              1|          2.9|       14.0|  0.0|    0.5|       0.0|         0.0|                  0.3|        14.8|           2|                 0.0|       green|\n",
      "|       2|2020-01-28 19:42:20|2020-01-28 19:51:10|                 N|         1|          95|         196|              1|         1.35|        7.5|  1.0|    0.5|       0.0|         0.0|                  0.3|         9.3|           2|                 0.0|       green|\n",
      "|       1|2020-01-21 18:37:21|2020-01-21 18:54:06|                 N|         1|         244|          75|              1|          6.2|       19.0|  1.0|    0.5|       0.0|         0.0|                  0.3|        20.8|           2|                 0.0|       green|\n",
      "|       2|2020-01-08 12:58:33|2020-01-08 13:10:08|                 N|         1|          42|          75|              1|         1.64|        9.0|  0.0|    0.5|       0.0|         0.0|                  0.3|         9.8|           2|                 0.0|       green|\n",
      "|       2|2020-01-06 19:46:03|2020-01-06 19:51:46|                 N|         1|         146|           7|              1|         1.07|        6.0|  1.0|    0.5|      1.56|         0.0|                  0.3|        9.36|           1|                 0.0|       green|\n",
      "|       2|2020-01-25 08:51:04|2020-01-25 08:59:32|                 N|         1|         127|         220|              1|         1.89|        8.5|  0.0|    0.5|       0.0|         0.0|                  0.3|         9.3|           2|                 0.0|       green|\n",
      "|       2|2020-01-08 21:34:13|2020-01-08 21:39:04|                 N|         1|          75|          75|              1|         0.62|        5.0|  0.5|    0.5|       0.0|         0.0|                  0.3|         6.3|           1|                 0.0|       green|\n",
      "|       2|2020-01-18 01:05:27|2020-01-18 01:10:43|                 N|         1|         166|         166|              2|         0.75|        5.0|  0.5|    0.5|       0.0|         0.0|                  0.3|         6.3|           2|                 0.0|       green|\n",
      "|       1|2020-01-22 21:40:43|2020-01-22 21:52:01|                 N|         1|         255|          37|              1|          2.0|        9.0|  0.5|    0.5|       0.0|         0.0|                  0.3|        10.3|           3|                 0.0|       green|\n",
      "|       2|2020-01-24 17:04:02|2020-01-24 17:15:11|                 N|         1|          83|         129|              1|         1.09|        8.0|  1.0|    0.5|      1.96|         0.0|                  0.3|       11.76|           1|                 0.0|       green|\n",
      "+--------+-------------------+-------------------+------------------+----------+------------+------------+---------------+-------------+-----------+-----+-------+----------+------------+---------------------+------------+------------+--------------------+------------+\n",
      "\n"
     ]
    }
   ],
   "source": [
    "spark.sql(\"\"\"\n",
    "        SELECT * FROM trips_data LIMIT 10;\n",
    "        \"\"\" ).show()"
   ]
  },
  {
   "cell_type": "code",
   "execution_count": 24,
   "id": "e8440df0-52ca-4021-a737-5ce003d02966",
   "metadata": {},
   "outputs": [
    {
     "name": "stderr",
     "output_type": "stream",
     "text": [
      "[Stage 14:=====================================================>  (24 + 1) / 25]"
     ]
    },
    {
     "name": "stdout",
     "output_type": "stream",
     "text": [
      "+------------+--------+\n",
      "|service_type|count(1)|\n",
      "+------------+--------+\n",
      "|       green| 2304517|\n",
      "|      yellow|39649199|\n",
      "+------------+--------+\n",
      "\n"
     ]
    },
    {
     "name": "stderr",
     "output_type": "stream",
     "text": [
      "                                                                                "
     ]
    }
   ],
   "source": [
    "\n",
    "spark.sql(\"\"\"\n",
    "SELECT\n",
    "    service_type,\n",
    "    count(1)\n",
    "FROM\n",
    "    trips_data\n",
    "GROUP BY \n",
    "    service_type\n",
    "\"\"\").show()"
   ]
  },
  {
   "cell_type": "markdown",
   "id": "e6bff738-33ac-477d-8eaa-dd3814590658",
   "metadata": {},
   "source": [
    "#### Now let's execute this query from module 4:"
   ]
  },
  {
   "cell_type": "code",
   "execution_count": 27,
   "id": "f27ed4fc-951d-40eb-a2bf-29d7d81abda8",
   "metadata": {},
   "outputs": [],
   "source": [
    "\n",
    "df_result = spark.sql(\"\"\"\n",
    "SELECT \n",
    "    -- Reveneue grouping \n",
    "    PULocationID AS revenue_zone,\n",
    "    date_trunc('month', pickup_datetime) AS revenue_month, \n",
    "    service_type, \n",
    "\n",
    "    -- Revenue calculation \n",
    "    SUM(fare_amount) AS revenue_monthly_fare,\n",
    "    SUM(extra) AS revenue_monthly_extra,\n",
    "    SUM(mta_tax) AS revenue_monthly_mta_tax,\n",
    "    SUM(tip_amount) AS revenue_monthly_tip_amount,\n",
    "    SUM(tolls_amount) AS revenue_monthly_tolls_amount,\n",
    "    SUM(improvement_surcharge) AS revenue_monthly_improvement_surcharge,\n",
    "    SUM(total_amount) AS revenue_monthly_total_amount,\n",
    "    SUM(congestion_surcharge) AS revenue_monthly_congestion_surcharge,\n",
    "\n",
    "    -- Additional calculations\n",
    "    AVG(passenger_count) AS avg_montly_passenger_count,\n",
    "    AVG(trip_distance) AS avg_montly_trip_distance\n",
    "FROM\n",
    "    trips_data\n",
    "GROUP BY\n",
    "    1, 2, 3\n",
    "\"\"\")"
   ]
  },
  {
   "cell_type": "code",
   "execution_count": 28,
   "id": "1b027349-f8c4-4721-8067-52e69ac7f011",
   "metadata": {},
   "outputs": [
    {
     "name": "stderr",
     "output_type": "stream",
     "text": [
      "[Stage 17:=====================================================>  (24 + 1) / 25]"
     ]
    },
    {
     "name": "stdout",
     "output_type": "stream",
     "text": [
      "+------------+-------------------+------------+----------------------------+--------------------------+\n",
      "|revenue_zone|      revenue_month|service_type|revenue_monthly_total_amount|avg_montly_passenger_count|\n",
      "+------------+-------------------+------------+----------------------------+--------------------------+\n",
      "|         218|2020-01-01 00:00:00|       green|           27375.14999999997|        1.0754716981132075|\n",
      "|          85|2020-01-01 00:00:00|       green|          22320.909999999938|        1.3349753694581281|\n",
      "|         116|2019-12-01 00:00:00|       green|          29.439999999999998|                       1.0|\n",
      "|          93|2020-02-01 00:00:00|       green|                     4123.47|         1.380952380952381|\n",
      "|         143|2020-02-01 00:00:00|       green|          1640.8499999999997|                       1.0|\n",
      "|         225|2020-02-01 00:00:00|       green|          47254.729999999836|        1.1892332789559543|\n",
      "|         112|2020-01-01 00:00:00|       green|           27470.10999999961|        1.2766407904022583|\n",
      "|         250|2020-02-01 00:00:00|       green|          17598.439999999977|        1.2394957983193278|\n",
      "|          63|2020-02-01 00:00:00|       green|          11934.529999999988|        1.0609756097560976|\n",
      "|         221|2020-02-01 00:00:00|       green|                      545.44|                       1.0|\n",
      "|          67|2020-02-01 00:00:00|       green|           8141.520000000001|        1.1016949152542372|\n",
      "|          39|2020-01-01 00:00:00|       green|           66334.85000000041|        1.2745098039215685|\n",
      "|          26|2020-01-01 00:00:00|       green|          30034.899999999885|        1.1054852320675106|\n",
      "|         147|2020-02-01 00:00:00|       green|          10140.270000000013|                   1.14375|\n",
      "|         193|2020-01-01 00:00:00|       green|          27003.409999999632|        1.1738019169329073|\n",
      "|         165|2020-01-01 00:00:00|       green|          27427.279999999944|        1.1891891891891893|\n",
      "|         124|2020-01-01 00:00:00|       green|           8809.099999999997|        1.0185185185185186|\n",
      "|         244|2020-01-01 00:00:00|       green|          232629.02999997846|          1.33827209930924|\n",
      "|         136|2020-01-01 00:00:00|       green|          29808.709999999846|        1.1654411764705883|\n",
      "|          36|2020-02-01 00:00:00|       green|          19849.419999999955|        1.4032846715328466|\n",
      "+------------+-------------------+------------+----------------------------+--------------------------+\n",
      "only showing top 20 rows\n",
      "\n"
     ]
    },
    {
     "name": "stderr",
     "output_type": "stream",
     "text": [
      "                                                                                "
     ]
    }
   ],
   "source": [
    "df_result \\\n",
    "    .select('revenue_zone', 'revenue_month', 'service_type', 'revenue_monthly_total_amount', 'avg_montly_passenger_count') \\\n",
    "    .show()"
   ]
  },
  {
   "cell_type": "markdown",
   "id": "57abdcb8-e1ae-482b-bf6c-9b0fb8875921",
   "metadata": {},
   "source": [
    "#### 5: Saving the result"
   ]
  },
  {
   "cell_type": "code",
   "execution_count": 29,
   "id": "cea676b4-11ea-409e-9524-7d03596df16f",
   "metadata": {},
   "outputs": [
    {
     "name": "stderr",
     "output_type": "stream",
     "text": [
      "                                                                                "
     ]
    }
   ],
   "source": [
    "df_result.coalesce(1).write.parquet('data/report/revenue/', mode='overwrite')"
   ]
  },
  {
   "cell_type": "code",
   "execution_count": null,
   "id": "8cb55eb3-fcfa-4b4d-a10f-a5a82f18b2b8",
   "metadata": {},
   "outputs": [],
   "source": []
  },
  {
   "cell_type": "code",
   "execution_count": null,
   "id": "b3e125c7-6c0a-4f11-9e2f-bd49161a8f05",
   "metadata": {},
   "outputs": [],
   "source": []
  }
 ],
 "metadata": {
  "kernelspec": {
   "display_name": "Python 3 (ipykernel)",
   "language": "python",
   "name": "python3"
  },
  "language_info": {
   "codemirror_mode": {
    "name": "ipython",
    "version": 3
   },
   "file_extension": ".py",
   "mimetype": "text/x-python",
   "name": "python",
   "nbconvert_exporter": "python",
   "pygments_lexer": "ipython3",
   "version": "3.10.16"
  }
 },
 "nbformat": 4,
 "nbformat_minor": 5
}
